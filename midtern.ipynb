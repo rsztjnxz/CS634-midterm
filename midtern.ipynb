{
  "cells": [
    {
      "cell_type": "markdown",
      "metadata": {
        "id": "view-in-github",
        "colab_type": "text"
      },
      "source": [
        "<a href=\"https://colab.research.google.com/github/rsztjnxz/CS634-midterm/blob/main/midtern.ipynb\" target=\"_parent\"><img src=\"https://colab.research.google.com/assets/colab-badge.svg\" alt=\"Open In Colab\"/></a>"
      ]
    },
    {
      "cell_type": "markdown",
      "metadata": {
        "id": "csbiNBphdezU"
      },
      "source": [
        "1. (10 points) Draw a network architecture that includes few fully connected layers and is able to perform classification on the Fashion MNIST dataset: https://github.com/zalandoresearch/fashion-mnist. \n",
        "\n",
        "Define the network to your liking - it can be as simple or as complex as you can make it. The network will be considered correct if all dimensions involved are fully specified."
      ]
    },
    {
      "cell_type": "markdown",
      "metadata": {
        "id": "Cbq9JpQ1vS8Q"
      },
      "source": [
        "Convolutional neural networks(CNN)"
      ]
    },
    {
      "cell_type": "markdown",
      "metadata": {
        "id": "NDZes0wFnZcz"
      },
      "source": [
        "![picture]https://drive.google.com/uc?export=view&id=1M-zMNwuXXJ3uyrwPPRWLoNwR9y8BtYaF"
      ]
    },
    {
      "cell_type": "markdown",
      "metadata": {
        "id": "whSC__bbuKbe"
      },
      "source": [
        "![picture]https://drive.google.com/uc?export=view&id=1k5AXde57Cbzu2AdKPCw4SG89SJmZMbBQ"
      ]
    },
    {
      "cell_type": "markdown",
      "metadata": {
        "id": "kmMY0ekvdb9u"
      },
      "source": [
        "2. (10 points) Train the network in Colab (you need to enable the GPU runtime) and plot the average loss vs SGD iteration as well as its precision vs recall curve. Clearly state and show your hyperparameter optimization strategy."
      ]
    },
    {
      "cell_type": "code",
      "execution_count": null,
      "metadata": {
        "id": "TBFVbNbsCpju"
      },
      "outputs": [],
      "source": [
        "import torch  \n",
        "from torch import nn, optim  \n",
        "import torch.nn.functional as F \n",
        "from torchvision import datasets, transforms "
      ]
    },
    {
      "cell_type": "code",
      "execution_count": null,
      "metadata": {
        "id": "GKHls7KOCzLj"
      },
      "outputs": [],
      "source": [
        "transform = transforms.Compose([transforms.ToTensor(),transforms.Normalize((0.5,), (0.5,))])\n",
        "# down Fashion-MNIST trainset and built trainloader. Everytime load 64 images from the training set at a time, disrupting the order of each load\n",
        "train_set = datasets.FashionMNIST('dataset/', download=True, train=True, transform=transform)\n",
        "train_loader = torch.utils.data.DataLoader(train_set, batch_size=64, shuffle=True)\n",
        "\n",
        "# down Fashion-MNIST testset and built testloader. Everytime load 64 images from the training set at a time, disrupting the order of each load\n",
        "test_set = datasets.FashionMNIST('dataset/', download=True, train=False, transform=transform)\n",
        "test_loader = torch.utils.data.DataLoader(test_set, batch_size=64, shuffle=True)"
      ]
    },
    {
      "cell_type": "code",
      "execution_count": null,
      "metadata": {
        "id": "yGZag6qMDB5o"
      },
      "outputs": [],
      "source": [
        "from torch import nn, optim\n",
        "import torch.nn.functional as F\n",
        "\n",
        "class Classifier(nn.Module):\n",
        "    def __init__(self):\n",
        "        super().__init__()\n",
        "        self.fc1 = nn.Linear(784, 256)\n",
        "        self.fc2 = nn.Linear(256, 128)\n",
        "        self.fc3 = nn.Linear(128, 64)\n",
        "        self.fc4 = nn.Linear(64, 10)\n",
        "        \n",
        "    def forward(self, x):\n",
        "        # make sure input tensor is flattened\n",
        "        x = x.view(x.shape[0], -1)\n",
        "        \n",
        "        x = F.relu(self.fc1(x))\n",
        "        x = F.relu(self.fc2(x))\n",
        "        x = F.relu(self.fc3(x))\n",
        "        x = F.log_softmax(self.fc4(x), dim=1)\n",
        "        \n",
        "        return x"
      ]
    },
    {
      "cell_type": "code",
      "execution_count": null,
      "metadata": {
        "colab": {
          "base_uri": "https://localhost:8080/"
        },
        "id": "56Sdk4hDDQNL",
        "outputId": "b4c84cea-03a8-4c85-c623-c6694d97d4dd"
      },
      "outputs": [
        {
          "name": "stdout",
          "output_type": "stream",
          "text": [
            "Start Training\n",
            "Training set learning times: 1/7..  training error: 0.572..  test error: 0.546..  accuracy: 0.810\n",
            "Training set learning times: 2/7..  training error: 0.469..  test error: 0.470..  accuracy: 0.833\n",
            "Training set learning times: 3/7..  training error: 0.426..  test error: 0.455..  accuracy: 0.839\n",
            "Training set learning times: 4/7..  training error: 0.416..  test error: 0.446..  accuracy: 0.838\n",
            "Training set learning times: 5/7..  training error: 0.411..  test error: 0.442..  accuracy: 0.848\n",
            "Training set learning times: 6/7..  training error: 0.396..  test error: 0.448..  accuracy: 0.844\n",
            "Training set learning times: 7/7..  training error: 0.410..  test error: 0.456..  accuracy: 0.848\n"
          ]
        }
      ],
      "source": [
        "# Instantiation of the Classifier class defined above\n",
        "model = Classifier()\n",
        "\n",
        "# Define the loss function as a negative logarithmic loss function\n",
        "criterion = nn.NLLLoss()\n",
        "\n",
        "# The optimization method is Adam gradient descent method with a learning rate of 0.01\n",
        "optimizer = optim.Adam(model.parameters(), lr=0.01)\n",
        "\n",
        "#  Learn all the data in the training set 7 times, the larger the number, the longer the training time\n",
        "epochs  = 7\n",
        "\n",
        "# Store the training error and test error for plotting latter\n",
        "train_losses, test_losses = [], []\n",
        "\n",
        "print('Start Training')\n",
        "for e in range(epochs):\n",
        "    running_loss = 0 \n",
        "    for images, labels in train_loader:\n",
        "        optimizer.zero_grad()\n",
        "        \n",
        "        # Extrapolate the 64 images, calculate the loss function, back-propagate the optimized weights, and sum the losses\n",
        "        log_ps = model(images)\n",
        "        loss = criterion(log_ps, labels)\n",
        "        loss.backward()\n",
        "        optimizer.step()\n",
        "        running_loss += loss.item()\n",
        "\n",
        "    else:\n",
        "        test_loss = 0\n",
        "        accuracy = 0\n",
        "        with torch.no_grad():\n",
        "            model.eval()\n",
        "            \n",
        "            for images, labels in test_loader:\n",
        "                # Perform forward inference on incoming test set images, calculate the loss, accuracy is the model prediction correct rate among 10,000 images in the test set\n",
        "                log_ps = model(images)\n",
        "                test_loss += criterion(log_ps, labels)\n",
        "                ps = torch.exp(log_ps)\n",
        "                top_p, top_class = ps.topk(1, dim=1)\n",
        "                equals = top_class == labels.view(*top_class.shape)\n",
        "                \n",
        "                # The right side of the equal sign is the percentage of correct predictions in each batch of 64 test images\n",
        "                accuracy += torch.mean(equals.type(torch.FloatTensor))\n",
        "\n",
        "        model.train()\n",
        "        train_losses.append(running_loss/len(train_loader))\n",
        "        test_losses.append(test_loss/len(test_loader))\n",
        "\n",
        "        print(\"Training set learning times: {}/{}.. \".format(e+1, epochs),\n",
        "              \"training error: {:.3f}.. \".format(running_loss/len(train_loader)),\n",
        "              \"test error: {:.3f}.. \".format(test_loss/len(test_loader)),\n",
        "              \"accuracy: {:.3f}\".format(accuracy/len(test_loader)))"
      ]
    },
    {
      "cell_type": "code",
      "execution_count": null,
      "metadata": {
        "id": "xELY3INfFEg3"
      },
      "outputs": [],
      "source": [
        "import matplotlib.pyplot as plt\n",
        "%matplotlib inline"
      ]
    },
    {
      "cell_type": "markdown",
      "metadata": {
        "id": "xg_tSPhnPgaV"
      },
      "source": [
        "Validate the model effect"
      ]
    },
    {
      "cell_type": "code",
      "execution_count": null,
      "metadata": {
        "colab": {
          "base_uri": "https://localhost:8080/",
          "height": 283
        },
        "id": "vbOUff3nFGBO",
        "outputId": "3ff62711-de35-4503-d439-94146d489651"
      },
      "outputs": [
        {
          "data": {
            "text/plain": [
              "<matplotlib.legend.Legend at 0x7f0687c67a10>"
            ]
          },
          "execution_count": 18,
          "metadata": {},
          "output_type": "execute_result"
        },
        {
          "data": {
            "image/png": "[encoded data removed]",
            "text/plain": [
              "<Figure size 432x288 with 1 Axes>"
            ]
          },
          "metadata": {},
          "output_type": "display_data"
        }
      ],
      "source": [
        "plt.plot(train_losses, label='Training loss')\n",
        "plt.plot(test_losses, label='Validation loss')\n",
        "plt.legend()"
      ]
    },
    {
      "cell_type": "markdown",
      "metadata": {
        "id": "H2-0HUvCqtnl"
      },
      "source": [
        "To get better model, I decided to use the drop-out method to prevent overfitting and change some parameter like learning rate and epochs. "
      ]
    },
    {
      "cell_type": "markdown",
      "metadata": {
        "id": "Y9ZrkhQFWZz7"
      },
      "source": [
        "3. (10 points) Randomly shuffle (permute) the pixels of the input images such that the pixel $(i,j)$ is randomly replaced with another pixel $(k,l)$ and repeat the training exercise, plotting the average loss vs SGD iteration number as well as the precision vs recall curve."
      ]
    },
    {
      "cell_type": "code",
      "execution_count": null,
      "metadata": {
        "colab": {
          "background_save": true
        },
        "id": "lAlVy0SWWbLC"
      },
      "outputs": [],
      "source": [
        "import random\n",
        "\n",
        "for e in range(epochs):\n",
        "    running_loss = 0 \n",
        "    for images, labels in train_loader:\n",
        "        random.shuffle(images)\n",
        "        optimizer.zero_grad()\n",
        "        \n",
        "        # Extrapolate the 1 images, calculate the loss function, back-propagate the optimized weights, and sum the losses\n",
        "        log_ps = model(images)\n",
        "        loss = criterion(log_ps, labels)\n",
        "        loss.backward()\n",
        "        optimizer.step()\n",
        "        running_loss += loss.item()\n",
        "\n",
        "    else:\n",
        "        test_loss = 0\n",
        "        accuracy = 0\n",
        "        with torch.no_grad():\n",
        "            model.eval()\n",
        "            \n",
        "            for images, labels in test_loader:\n",
        "                # Perform forward inference on incoming test set images, calculate the loss, accuracy is the model prediction correct rate among 10,000 images in the test set\n",
        "                log_ps = model(images)\n",
        "                test_loss += criterion(log_ps, labels)\n",
        "                ps = torch.exp(log_ps)\n",
        "                top_p, top_class = ps.topk(1, dim=1)\n",
        "                equals = top_class == labels.view(*top_class.shape)\n",
        "                \n",
        "                # The right side of the equal sign is the percentage of correct predictions in each batch of 64 test images\n",
        "                accuracy += torch.mean(equals.type(torch.FloatTensor))\n",
        "\n",
        "\n"
      ]
    },
    {
      "cell_type": "code",
      "execution_count": null,
      "metadata": {
        "colab": {
          "base_uri": "https://localhost:8080/",
          "height": 283
        },
        "id": "oB-45XfgZkgc",
        "outputId": "1c176d3d-ac2d-4d25-c2ce-a04cebeedf43"
      },
      "outputs": [
        {
          "data": {
            "text/plain": [
              "<matplotlib.legend.Legend at 0x7f0686ba6810>"
            ]
          },
          "execution_count": 25,
          "metadata": {},
          "output_type": "execute_result"
        },
        {
          "data": {
            "image/png": "[encoded data removed]",
            "text/plain": [
              "<Figure size 432x288 with 1 Axes>"
            ]
          },
          "metadata": {},
          "output_type": "display_data"
        }
      ],
      "source": [
        "plt.plot(train_losses, label='Training loss')\n",
        "plt.plot(test_losses, label='Validation loss')\n",
        "plt.legend()"
      ]
    },
    {
      "cell_type": "markdown",
      "metadata": {
        "id": "Ig8ILMZGdVE1"
      },
      "source": [
        "4. (10 points) Randomly shuffle (permute) the labels such that the label $y_j$ is replaced with another $y_k$ (obviously though within the range 0-9) and repeat the training exercise, plotting plotting the average loss vs SGD iteration number as well as the precision vs recall curve."
      ]
    },
    {
      "cell_type": "code",
      "execution_count": null,
      "metadata": {
        "colab": {
          "base_uri": "https://localhost:8080/",
          "height": 283
        },
        "id": "l5pdAmTZFIgW",
        "outputId": "fea6e85b-1b79-4031-da77-c7457e35c7c9"
      },
      "outputs": [
        {
          "name": "stdout",
          "output_type": "stream",
          "text": [
            "The neural network guesses that in the picture is  Bag，Probability be 99.94175434112549%\n"
          ]
        },
        {
          "data": {
            "image/png": "[encoded data removed]",
            "text/plain": [
              "<Figure size 432x288 with 1 Axes>"
            ]
          },
          "metadata": {},
          "output_type": "display_data"
        }
      ],
      "source": [
        "dataiter = iter(test_loader)\n",
        "images, labels = dataiter.next()\n",
        "img = images[0]\n",
        "img = img.reshape((28,28)).numpy()\n",
        "plt.imshow(img)\n",
        "\n",
        "# Convert the test image to a one-dimensional column vector\n",
        "img = torch.from_numpy(img)\n",
        "img = img.view(1, 784)\n",
        "\n",
        "# Perform positive inference to predict the category in which the image is located\n",
        "with torch.no_grad():\n",
        "    output = model.forward(img)\n",
        "ps = torch.exp(output)\n",
        "\n",
        "top_p, top_class = ps.topk(1, dim=1)\n",
        "labellist = ['T-shirt/top','Trouser','Pullover','Dress','Coat','Sandal','Shirt','Sneaker','Bag','Ankle boot']\n",
        "prediction = labellist[top_class]\n",
        "probability = float(top_p)\n",
        "print(f'The neural network guesses that in the picture is  {prediction}，Probability be {probability*100}%')"
      ]
    },
    {
      "cell_type": "code",
      "execution_count": null,
      "metadata": {
        "id": "WvzHtepdlayz"
      },
      "outputs": [],
      "source": [
        "images = random.shuffle(images)"
      ]
    },
    {
      "cell_type": "code",
      "execution_count": null,
      "metadata": {
        "colab": {
          "base_uri": "https://localhost:8080/",
          "height": 283
        },
        "id": "LwgRM3WyZGzi",
        "outputId": "f981e8cb-9df2-4f3f-c237-01589394f6a7"
      },
      "outputs": [
        {
          "data": {
            "text/plain": [
              "<matplotlib.legend.Legend at 0x7f068686b110>"
            ]
          },
          "execution_count": 27,
          "metadata": {},
          "output_type": "execute_result"
        },
        {
          "data": {
            "image/png": "[encoded data removed]",
            "text/plain": [
              "<Figure size 432x288 with 1 Axes>"
            ]
          },
          "metadata": {},
          "output_type": "display_data"
        }
      ],
      "source": [
        "plt.plot(train_losses, label='Training loss')\n",
        "plt.plot(test_losses, label='Validation loss')\n",
        "plt.legend()"
      ]
    },
    {
      "cell_type": "markdown",
      "metadata": {
        "id": "WyBPbr3oo3hN"
      },
      "source": [
        "\n",
        "5. (5 points)  Compare your findings against the findings of [this important paper](https://arxiv.org/pdf/1611.03530.pdf)\n"
      ]
    },
    {
      "cell_type": "markdown",
      "metadata": {
        "id": "IZc9FPY6o-eK"
      },
      "source": [
        "In my work, the accuracy is not as high as it could be in paper. Maybe I have to try different model and add more paramter and test more data everytime."
      ]
    }
  ],
  "metadata": {
    "colab": {
      "provenance": [],
      "authorship_tag": "ABX9TyPTf85iBwtzJdFH/zW/YGzU",
      "include_colab_link": true
    },
    "kernelspec": {
      "display_name": "Python 3",
      "name": "python3"
    },
    "language_info": {
      "name": "python"
    }
  },
  "nbformat": 4,
  "nbformat_minor": 0
}